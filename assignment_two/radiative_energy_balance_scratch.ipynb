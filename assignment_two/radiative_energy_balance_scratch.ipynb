{
 "cells": [
  {
   "cell_type": "code",
   "execution_count": 2,
   "metadata": {},
   "outputs": [
    {
     "data": {
      "text/plain": "<IPython.core.display.HTML object>",
      "text/html": "<style>.container { width:90% !important; }</style>"
     },
     "metadata": {},
     "output_type": "display_data"
    }
   ],
   "source": [
    "from IPython.core.interactiveshell import InteractiveShell\n",
    "InteractiveShell.ast_node_interactivity = \"all\"\n",
    "from IPython.display import display\n",
    "from IPython.display import display, HTML\n",
    "display(HTML(\"<style>.container { width:90% !important; }</style>\"))"
   ]
  },
  {
   "cell_type": "code",
   "execution_count": 3,
   "metadata": {},
   "outputs": [],
   "source": [
    "import numpy as np\n",
    "from sympy import *\n",
    "\n",
    "from sympy.interactive import printing\n",
    "printing.init_printing(use_latex='mathjax')"
   ]
  },
  {
   "cell_type": "markdown",
   "metadata": {},
   "source": [
    "## volcanic eruptions and climate change"
   ]
  },
  {
   "cell_type": "code",
   "execution_count": 4,
   "metadata": {},
   "outputs": [],
   "source": [
    "# stefan-boltzmann constant\n",
    "sigma_b = 5.6696e-8 # Wm^(-2)K^(-4)"
   ]
  },
  {
   "cell_type": "code",
   "execution_count": 5,
   "metadata": {},
   "outputs": [],
   "source": [
    "# todo: put regional parameters in config files\n",
    "\n",
    "# regional parameters\n",
    "# tau = 1 # atmospheric transmissivity\n",
    "# alpha_sky = np.ndarray()  # top of atmosphere albedos\n",
    "# alpha_surface = np.ndarray()  # surface albedos\n",
    "# gamma = np.ndarray()  # spatial radiation factors\n",
    "# rho = np.ndarray()  # densities\n",
    "# epsilon = np.ndarray()  # emissivities\n",
    "# specific_heats = np.ndarray()  # specific heat capacities (c_k)\n"
   ]
  },
  {
   "cell_type": "markdown",
   "metadata": {},
   "source": [
    "#### regional temperature variation"
   ]
  },
  {
   "cell_type": "code",
   "execution_count": 8,
   "metadata": {},
   "outputs": [],
   "source": [
    "t, phi = symbols('t varphi')\n",
    "T = Function(\"T_k\")(t, phi)\n",
    "S = Function(\"S\")(t)\n",
    "d_temp = T.diff(t)\n",
    "c, A, Z = symbols(\"c_k A_k Z_k\")\n",
    "alpha, gamma, rho, tau, sigma, epsilon = symbols(\"alpha_k gamma rho_k tau sigma_B varepsilon\")\n"
   ]
  },
  {
   "cell_type": "code",
   "execution_count": 9,
   "metadata": {},
   "outputs": [
    {
     "data": {
      "text/plain": "         ∂                                                        4           \nZₖ⋅cₖ⋅ρₖ⋅──(Tₖ(t, varphi)) = γ⋅(1 - αₖ)⋅S(t) - σ_B⋅τ⋅varepsilon⋅Tₖ (t, varphi)\n         ∂t                                                                   ",
      "text/latex": "$\\displaystyle Z_{k} c_{k} \\rho_{k} \\frac{\\partial}{\\partial t} \\operatorname{T_{k}}{\\left(t,\\varphi \\right)} = \\gamma \\left(1 - \\alpha_{k}\\right) S{\\left(t \\right)} - \\sigma_{B} \\tau \\varepsilon \\operatorname{T_{k}}^{4}{\\left(t,\\varphi \\right)}$"
     },
     "execution_count": 9,
     "metadata": {},
     "output_type": "execute_result"
    }
   ],
   "source": [
    "diff_eq = Eq(c*rho*Z*d_temp, gamma*(1 - alpha)*S - epsilon*tau*sigma*T**4)\n",
    "diff_eq"
   ]
  },
  {
   "cell_type": "code",
   "execution_count": 33,
   "outputs": [],
   "source": [
    "# pseudocode\n",
    "def compute_couplings(temperatures, transfer_coefficients, zonal_lengths):\n",
    "    # todo: figure out how to do this as matrix multiplication or dot product\n",
    "    return transfer_coefficients*zonal_lengths*(temperatures - temperatures)\n",
    "\n",
    "def solar_radiative_flux(time):\n",
    "    radiative_flux = None  # what form? linear or exponential\n",
    "    return radiative_flux"
   ],
   "metadata": {
    "collapsed": false
   }
  },
  {
   "cell_type": "code",
   "execution_count": 40,
   "metadata": {},
   "outputs": [],
   "source": [
    "def dtemperature_dt(time: float, temperatures: np.ndarray, zonal_lengths: np.ndarray,\n",
    "                     transfer_coefficients: np.ndarray, albedo_sky: np.ndarray, albedo_surface: np.ndarray,\n",
    "                     solar=None, volcano_model=None, kwargs=None):\n",
    "    \"\"\"\n",
    "    :param time: scalar\n",
    "    :param temperatures: temperature field\n",
    "    :param transfer_coefficients: pre-computed heat transfer coefficients\n",
    "    :param albedo_surface:\n",
    "    :param albedo_sky:\n",
    "    :param solar: solar flux model (maybe constant modulated by incident angle?)\n",
    "    :param volcano_model: TBD\n",
    "    :param kwargs: for scipy.integrators.solve_ivp\n",
    "    :param zonal_lengths:\n",
    "    :return: temperature changes for each zone\n",
    "    \"\"\"\n",
    "    # numerical solve equation 8\n",
    "    coupling_terms = compute_couplings(temperatures, transfer_coefficients, zonal_lengths)\n",
    "\n",
    "    # precompute coupled terms using itertools or product\n",
    "    # precompute each term (they're all six-component vectors)\n",
    "    flux_in = gamma*(1-albedo_sky)*(1-albedo_surface)*solar(time) + coupling_terms\n",
    "    flux_out = epsilon*tau*sigma_b*T**4\n",
    "\n",
    "    dtemperature = flux_in - flux_out  # solve regions together\n",
    "\n",
    "    return dtemperature"
   ]
  },
  {
   "cell_type": "code",
   "execution_count": null,
   "metadata": {},
   "outputs": [],
   "source": [
    "# todo: compute coupling terms L_ij*k_ij*(T_j - T_i) [how to vectorize: use itertools, handling top and bottom layers manually]\n",
    "# todo: make function solar for solar radiative flux"
   ]
  },
  {
   "cell_type": "code",
   "execution_count": null,
   "outputs": [],
   "source": [
    "# todo: compute steady state, no coupling\n",
    "# todo: compute steady state with coupling"
   ],
   "metadata": {
    "collapsed": false
   }
  }
 ],
 "metadata": {
  "kernelspec": {
   "display_name": "Python 3 (ipykernel)",
   "language": "python",
   "name": "python3"
  },
  "language_info": {
   "codemirror_mode": {
    "name": "ipython",
    "version": 3
   },
   "file_extension": ".py",
   "mimetype": "text/x-python",
   "name": "python",
   "nbconvert_exporter": "python",
   "pygments_lexer": "ipython3",
   "version": "3.9.13"
  }
 },
 "nbformat": 4,
 "nbformat_minor": 1
}

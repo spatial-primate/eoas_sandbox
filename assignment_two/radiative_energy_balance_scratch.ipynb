{
 "cells": [
  {
   "cell_type": "code",
   "execution_count": 1,
   "metadata": {},
   "outputs": [
    {
     "data": {
      "text/plain": "<IPython.core.display.HTML object>",
      "text/html": "<style>.container { width:90% !important; }</style>"
     },
     "metadata": {},
     "output_type": "display_data"
    }
   ],
   "source": [
    "from IPython.core.interactiveshell import InteractiveShell\n",
    "InteractiveShell.ast_node_interactivity = \"all\"\n",
    "from IPython.display import display\n",
    "from IPython.display import display, HTML\n",
    "display(HTML(\"<style>.container { width:90% !important; }</style>\"))"
   ]
  },
  {
   "cell_type": "code",
   "execution_count": 2,
   "metadata": {},
   "outputs": [],
   "source": [
    "import numpy as np\n",
    "from sympy import *\n",
    "\n",
    "from sympy.interactive import printing\n",
    "printing.init_printing(use_latex='mathjax')"
   ]
  },
  {
   "cell_type": "markdown",
   "metadata": {},
   "source": [
    "## volcanic eruptions and climate change"
   ]
  },
  {
   "cell_type": "code",
   "execution_count": 3,
   "metadata": {},
   "outputs": [],
   "source": [
    "# stefan-boltzmann constant\n",
    "sigma_b = 5.6696e-8 # Wm^(-2)K^(-4)"
   ]
  },
  {
   "cell_type": "code",
   "execution_count": 4,
   "metadata": {},
   "outputs": [],
   "source": [
    "# todo: put regional parameters in config files\n",
    "\n",
    "# regional parameters\n",
    "# tau = 1 # atmospheric transmissivity\n",
    "# alpha_sky = np.ndarray()  # top of atmosphere albedos\n",
    "# alpha_surface = np.ndarray()  # surface albedos\n",
    "# gamma = np.ndarray()  # spatial radiation factors\n",
    "# rho = np.ndarray()  # densities\n",
    "# epsilon = np.ndarray()  # emissivities\n",
    "# specific_heats = np.ndarray()  # specific heat capacities (c_k)\n"
   ]
  },
  {
   "cell_type": "markdown",
   "metadata": {},
   "source": [
    "#### regional temperature variation"
   ]
  },
  {
   "cell_type": "code",
   "execution_count": 8,
   "metadata": {},
   "outputs": [
    {
     "data": {
      "text/plain": "(T, t, x)",
      "text/latex": "$\\displaystyle \\left( T, \\  t, \\  x\\right)$"
     },
     "execution_count": 8,
     "metadata": {},
     "output_type": "execute_result"
    },
    {
     "data": {
      "text/plain": "σₖ",
      "text/latex": "$\\displaystyle \\sigma_{k}$"
     },
     "execution_count": 8,
     "metadata": {},
     "output_type": "execute_result"
    },
    {
     "data": {
      "text/plain": "(αₖ, γₖ, ρₖ, τₖ)",
      "text/latex": "$\\displaystyle \\left( \\alpha_{k}, \\  \\gamma_{k}, \\  \\rho_{k}, \\  \\tau_{k}\\right)$"
     },
     "execution_count": 8,
     "metadata": {},
     "output_type": "execute_result"
    }
   ],
   "source": [
    "T, t, x = symbols('T t x')\n",
    "alpha, gamma, rho, tau, sigma = symbols(\"alpha_k gamma_k rho_k tau_k sigma_k\")\n",
    "\n",
    "T, t, x\n",
    "sigma\n",
    "alpha, gamma, rho, tau"
   ]
  },
  {
   "cell_type": "code",
   "execution_count": null,
   "metadata": {},
   "outputs": [],
   "source": []
  },
  {
   "cell_type": "code",
   "execution_count": 40,
   "metadata": {},
   "outputs": [],
   "source": [
    "def d_temperature_dt(time: float, temperatures: np.ndarray, transfer_coefficients: np.ndarray, volcano_model=None, kwargs=None):\n",
    "    \"\"\"\n",
    "    :param time: scalar\n",
    "    :param temperatures: temperature field\n",
    "    :param transfer_coefficients: pre-computed heat transfer coefficients\n",
    "    :param volcano_model: TBD\n",
    "    :param kwargs: for scipy.integrators.solve_ivp\n",
    "    :return: Temperatures\n",
    "    \"\"\"\n",
    "    # numerical solve equation 8\n",
    "    dtemperature = None  # solve regions together\n",
    "\n",
    "    return dtemperature"
   ]
  },
  {
   "cell_type": "code",
   "execution_count": null,
   "metadata": {},
   "outputs": [],
   "source": []
  }
 ],
 "metadata": {
  "kernelspec": {
   "display_name": "Python 3 (ipykernel)",
   "language": "python",
   "name": "python3"
  },
  "language_info": {
   "codemirror_mode": {
    "name": "ipython",
    "version": 3
   },
   "file_extension": ".py",
   "mimetype": "text/x-python",
   "name": "python",
   "nbconvert_exporter": "python",
   "pygments_lexer": "ipython3",
   "version": "3.9.13"
  }
 },
 "nbformat": 4,
 "nbformat_minor": 1
}

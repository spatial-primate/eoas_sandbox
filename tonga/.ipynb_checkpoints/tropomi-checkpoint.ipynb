{
 "cells": [
  {
   "cell_type": "markdown",
   "id": "dabd71c5",
   "metadata": {},
   "source": [
    "# IVESPA and TROPOMI"
   ]
  },
  {
   "cell_type": "code",
   "execution_count": 1,
   "id": "2aebf532",
   "metadata": {},
   "outputs": [
    {
     "data": {
      "text/html": [
       "<style>.container { width:100% !important; }</style>"
      ],
      "text/plain": [
       "<IPython.core.display.HTML object>"
      ]
     },
     "metadata": {},
     "output_type": "display_data"
    }
   ],
   "source": [
    "# imports\n",
    "import pandas as pd\n",
    "import numpy as np\n",
    "\n",
    "# module to connect to the Copernicus Open Access Hubs\n",
    "from sentinelsat import SentinelAPI\n",
    "\n",
    "# MGMT\n",
    "import datetime\n",
    "from pathlib import Path\n",
    "\n",
    "# create interactive menus in jupyter notebook (NB: won't work for jupyter lab)\n",
    "from IPython.display import display\n",
    "import ipywidgets as widgets\n",
    "\n",
    "from IPython.display import display, HTML\n",
    "display(HTML(\"<style>.container { width:100% !important; }</style>\"))"
   ]
  },
  {
   "cell_type": "code",
   "execution_count": 2,
   "id": "852ca5f9",
   "metadata": {},
   "outputs": [],
   "source": [
    "avogadro = 6.022e23  # particles/mol\n",
    "density_so2 = 2.619e-3  # g/cm3\n",
    "paint_thickness = 3e-7  # diameter SO2 in cm\n",
    "molar_mass_so2 = 64.04  # g/mol"
   ]
  },
  {
   "cell_type": "code",
   "execution_count": 3,
   "id": "06dbb98f",
   "metadata": {},
   "outputs": [
    {
     "data": {
      "text/plain": [
       "7388328232354.777"
      ]
     },
     "execution_count": 3,
     "metadata": {},
     "output_type": "execute_result"
    }
   ],
   "source": [
    "rough_site_density = avogadro * density_so2 * paint_thickness / molar_mass_so2  # molecules / cm2\n",
    "rough_site_density"
   ]
  },
  {
   "cell_type": "code",
   "execution_count": 4,
   "id": "1ab75152",
   "metadata": {},
   "outputs": [
    {
     "name": "stdout",
     "output_type": "stream",
     "text": [
      "given temperature: 253.1 K,\n",
      "-20.05 when converted to celsius\n",
      "\n",
      "given temperature: 245 K,\n",
      "-28.15 when converted to celsius\n",
      "\n",
      "given temperature: 240.0 K,\n",
      "-33.15 when converted to celsius\n",
      "\n"
     ]
    }
   ],
   "source": [
    "def report_kelvin_to_celsius(temperature):\n",
    "    print(f\"given temperature: {temperature} K,\\n{temperature - 273.15:.2f} when converted to celsius\\n\")\n",
    "    return (temperature - 273.15)\n",
    "\n",
    "\n",
    "def stokes_settling_velocity(particle_diameter, particle_density=2700):\n",
    "    g = 9.8  # m/s2\n",
    "    air_density = 1.204  # kg/m3\n",
    "    air_viscosity = 18.03e-6  # Pa-s\n",
    "    return 2 * g * (particle_density - air_density) * particle_diameter **2 / (9 * air_viscosity)\n",
    "\n",
    "\n",
    "def particle_reynolds_number(particle_diameter, settling_velocity, kinematic_viscosity=14.88e-6):\n",
    "    return particle_diameter * settling_velocity / kinematic_viscosity\n",
    "\n",
    "for temperature in [253.1, 245, 240.]:\n",
    "    report_kelvin_to_celsius(temperature)  #, 245 - 273.15, 240 - 273.15"
   ]
  },
  {
   "cell_type": "code",
   "execution_count": 35,
   "id": "e5e7daad",
   "metadata": {},
   "outputs": [
    {
     "name": "stdout",
     "output_type": "stream",
     "text": [
      "1e-06 0.00032597770136192765 2.1907103586151052e-05\n",
      "3.5938136638046257e-06 0.004210163909963192 0.0010168376738227708\n",
      "1.2915496650148827e-05 0.0543763578757071 0.04719742392412559\n",
      "4.641588833612782e-05 0.7022976679909915 2.1907103586151093\n",
      "0.0001668100537200059 9.070523178344985 101.68376738227725\n",
      "0.0005994842503189409 117.15031172501193 4719.742392412568\n",
      "0.0021544346900318843 1513.0544586482854 219071.0358615107\n",
      "0.007742636826811277 19541.849792164718 10168376.738227746\n",
      "0.02782559402207126 252392.69552841506 471974239.2412579\n",
      "0.1 3259777.0136192776 21907103586.151062\n"
     ]
    }
   ],
   "source": [
    "particle_diameters = np.logspace(-6, -1, 10)  # 1 mm lapilli\n",
    "for particle_diameter in particle_diameters:\n",
    "    print(particle_diameter, stokes_settling_velocity(particle_diameter), particle_reynolds_number(particle_diameter, stokes_settling_velocity(particle_diameter)))"
   ]
  },
  {
   "cell_type": "markdown",
   "id": "59a371ec",
   "metadata": {},
   "source": [
    "## TROPOMI DOWNLOAD WORKFLOW"
   ]
  },
  {
   "cell_type": "code",
   "execution_count": 5,
   "id": "fdf1d96d",
   "metadata": {},
   "outputs": [],
   "source": [
    "tropomi_directory = r\"/Users/lukebrown/Library/CloudStorage/Dropbox/tonga/tropomi/tropomi\""
   ]
  },
  {
   "cell_type": "code",
   "execution_count": 6,
   "id": "7576ccbf",
   "metadata": {},
   "outputs": [
    {
     "name": "stdout",
     "output_type": "stream",
     "text": [
      "/Users/lukebrown/Library/Mobile Documents/com~apple~CloudDocs/repos/eoas_sandbox/tonga\n",
      "/Users/lukebrown/Library/Mobile Documents/com~apple~CloudDocs/repos/eoas_sandbox/tonga\n"
     ]
    },
    {
     "data": {
      "text/plain": [
       "['S5P_RPRO_L2__O3_____20220116T010623_20220116T024753_22071_03_020401_20221013T174301.nc',\n",
       " 'S5P_RPRO_L2__O3_____20220126T080547_20220126T094717_22217_03_020401_20221014T002326.nc']"
      ]
     },
     "execution_count": 6,
     "metadata": {},
     "output_type": "execute_result"
    }
   ],
   "source": [
    "import os\n",
    "print(os.getcwd())\n",
    "print(Path.cwd())\n",
    "\n",
    "os.listdir(tropomi_directory)"
   ]
  },
  {
   "cell_type": "code",
   "execution_count": 7,
   "id": "f57ae471",
   "metadata": {},
   "outputs": [],
   "source": [
    "import xarray as xr\n",
    "jan16_tropomi = xr.open_dataset(os.path.join(tropomi_directory, os.listdir(tropomi_directory)[0]), \n",
    "                                group='PRODUCT')"
   ]
  },
  {
   "cell_type": "code",
   "execution_count": 8,
   "id": "ec1e05cb",
   "metadata": {},
   "outputs": [
    {
     "data": {
      "text/html": [
       "<div><svg style=\"position: absolute; width: 0; height: 0; overflow: hidden\">\n",
       "<defs>\n",
       "<symbol id=\"icon-database\" viewBox=\"0 0 32 32\">\n",
       "<path d=\"M16 0c-8.837 0-16 2.239-16 5v4c0 2.761 7.163 5 16 5s16-2.239 16-5v-4c0-2.761-7.163-5-16-5z\"></path>\n",
       "<path d=\"M16 17c-8.837 0-16-2.239-16-5v6c0 2.761 7.163 5 16 5s16-2.239 16-5v-6c0 2.761-7.163 5-16 5z\"></path>\n",
       "<path d=\"M16 26c-8.837 0-16-2.239-16-5v6c0 2.761 7.163 5 16 5s16-2.239 16-5v-6c0 2.761-7.163 5-16 5z\"></path>\n",
       "</symbol>\n",
       "<symbol id=\"icon-file-text2\" viewBox=\"0 0 32 32\">\n",
       "<path d=\"M28.681 7.159c-0.694-0.947-1.662-2.053-2.724-3.116s-2.169-2.030-3.116-2.724c-1.612-1.182-2.393-1.319-2.841-1.319h-15.5c-1.378 0-2.5 1.121-2.5 2.5v27c0 1.378 1.122 2.5 2.5 2.5h23c1.378 0 2.5-1.122 2.5-2.5v-19.5c0-0.448-0.137-1.23-1.319-2.841zM24.543 5.457c0.959 0.959 1.712 1.825 2.268 2.543h-4.811v-4.811c0.718 0.556 1.584 1.309 2.543 2.268zM28 29.5c0 0.271-0.229 0.5-0.5 0.5h-23c-0.271 0-0.5-0.229-0.5-0.5v-27c0-0.271 0.229-0.5 0.5-0.5 0 0 15.499-0 15.5 0v7c0 0.552 0.448 1 1 1h7v19.5z\"></path>\n",
       "<path d=\"M23 26h-14c-0.552 0-1-0.448-1-1s0.448-1 1-1h14c0.552 0 1 0.448 1 1s-0.448 1-1 1z\"></path>\n",
       "<path d=\"M23 22h-14c-0.552 0-1-0.448-1-1s0.448-1 1-1h14c0.552 0 1 0.448 1 1s-0.448 1-1 1z\"></path>\n",
       "<path d=\"M23 18h-14c-0.552 0-1-0.448-1-1s0.448-1 1-1h14c0.552 0 1 0.448 1 1s-0.448 1-1 1z\"></path>\n",
       "</symbol>\n",
       "</defs>\n",
       "</svg>\n",
       "<style>/* CSS stylesheet for displaying xarray objects in jupyterlab.\n",
       " *\n",
       " */\n",
       "\n",
       ":root {\n",
       "  --xr-font-color0: var(--jp-content-font-color0, rgba(0, 0, 0, 1));\n",
       "  --xr-font-color2: var(--jp-content-font-color2, rgba(0, 0, 0, 0.54));\n",
       "  --xr-font-color3: var(--jp-content-font-color3, rgba(0, 0, 0, 0.38));\n",
       "  --xr-border-color: var(--jp-border-color2, #e0e0e0);\n",
       "  --xr-disabled-color: var(--jp-layout-color3, #bdbdbd);\n",
       "  --xr-background-color: var(--jp-layout-color0, white);\n",
       "  --xr-background-color-row-even: var(--jp-layout-color1, white);\n",
       "  --xr-background-color-row-odd: var(--jp-layout-color2, #eeeeee);\n",
       "}\n",
       "\n",
       "html[theme=dark],\n",
       "body[data-theme=dark],\n",
       "body.vscode-dark {\n",
       "  --xr-font-color0: rgba(255, 255, 255, 1);\n",
       "  --xr-font-color2: rgba(255, 255, 255, 0.54);\n",
       "  --xr-font-color3: rgba(255, 255, 255, 0.38);\n",
       "  --xr-border-color: #1F1F1F;\n",
       "  --xr-disabled-color: #515151;\n",
       "  --xr-background-color: #111111;\n",
       "  --xr-background-color-row-even: #111111;\n",
       "  --xr-background-color-row-odd: #313131;\n",
       "}\n",
       "\n",
       ".xr-wrap {\n",
       "  display: block !important;\n",
       "  min-width: 300px;\n",
       "  max-width: 700px;\n",
       "}\n",
       "\n",
       ".xr-text-repr-fallback {\n",
       "  /* fallback to plain text repr when CSS is not injected (untrusted notebook) */\n",
       "  display: none;\n",
       "}\n",
       "\n",
       ".xr-header {\n",
       "  padding-top: 6px;\n",
       "  padding-bottom: 6px;\n",
       "  margin-bottom: 4px;\n",
       "  border-bottom: solid 1px var(--xr-border-color);\n",
       "}\n",
       "\n",
       ".xr-header > div,\n",
       ".xr-header > ul {\n",
       "  display: inline;\n",
       "  margin-top: 0;\n",
       "  margin-bottom: 0;\n",
       "}\n",
       "\n",
       ".xr-obj-type,\n",
       ".xr-array-name {\n",
       "  margin-left: 2px;\n",
       "  margin-right: 10px;\n",
       "}\n",
       "\n",
       ".xr-obj-type {\n",
       "  color: var(--xr-font-color2);\n",
       "}\n",
       "\n",
       ".xr-sections {\n",
       "  padding-left: 0 !important;\n",
       "  display: grid;\n",
       "  grid-template-columns: 150px auto auto 1fr 20px 20px;\n",
       "}\n",
       "\n",
       ".xr-section-item {\n",
       "  display: contents;\n",
       "}\n",
       "\n",
       ".xr-section-item input {\n",
       "  display: none;\n",
       "}\n",
       "\n",
       ".xr-section-item input + label {\n",
       "  color: var(--xr-disabled-color);\n",
       "}\n",
       "\n",
       ".xr-section-item input:enabled + label {\n",
       "  cursor: pointer;\n",
       "  color: var(--xr-font-color2);\n",
       "}\n",
       "\n",
       ".xr-section-item input:enabled + label:hover {\n",
       "  color: var(--xr-font-color0);\n",
       "}\n",
       "\n",
       ".xr-section-summary {\n",
       "  grid-column: 1;\n",
       "  color: var(--xr-font-color2);\n",
       "  font-weight: 500;\n",
       "}\n",
       "\n",
       ".xr-section-summary > span {\n",
       "  display: inline-block;\n",
       "  padding-left: 0.5em;\n",
       "}\n",
       "\n",
       ".xr-section-summary-in:disabled + label {\n",
       "  color: var(--xr-font-color2);\n",
       "}\n",
       "\n",
       ".xr-section-summary-in + label:before {\n",
       "  display: inline-block;\n",
       "  content: '►';\n",
       "  font-size: 11px;\n",
       "  width: 15px;\n",
       "  text-align: center;\n",
       "}\n",
       "\n",
       ".xr-section-summary-in:disabled + label:before {\n",
       "  color: var(--xr-disabled-color);\n",
       "}\n",
       "\n",
       ".xr-section-summary-in:checked + label:before {\n",
       "  content: '▼';\n",
       "}\n",
       "\n",
       ".xr-section-summary-in:checked + label > span {\n",
       "  display: none;\n",
       "}\n",
       "\n",
       ".xr-section-summary,\n",
       ".xr-section-inline-details {\n",
       "  padding-top: 4px;\n",
       "  padding-bottom: 4px;\n",
       "}\n",
       "\n",
       ".xr-section-inline-details {\n",
       "  grid-column: 2 / -1;\n",
       "}\n",
       "\n",
       ".xr-section-details {\n",
       "  display: none;\n",
       "  grid-column: 1 / -1;\n",
       "  margin-bottom: 5px;\n",
       "}\n",
       "\n",
       ".xr-section-summary-in:checked ~ .xr-section-details {\n",
       "  display: contents;\n",
       "}\n",
       "\n",
       ".xr-array-wrap {\n",
       "  grid-column: 1 / -1;\n",
       "  display: grid;\n",
       "  grid-template-columns: 20px auto;\n",
       "}\n",
       "\n",
       ".xr-array-wrap > label {\n",
       "  grid-column: 1;\n",
       "  vertical-align: top;\n",
       "}\n",
       "\n",
       ".xr-preview {\n",
       "  color: var(--xr-font-color3);\n",
       "}\n",
       "\n",
       ".xr-array-preview,\n",
       ".xr-array-data {\n",
       "  padding: 0 5px !important;\n",
       "  grid-column: 2;\n",
       "}\n",
       "\n",
       ".xr-array-data,\n",
       ".xr-array-in:checked ~ .xr-array-preview {\n",
       "  display: none;\n",
       "}\n",
       "\n",
       ".xr-array-in:checked ~ .xr-array-data,\n",
       ".xr-array-preview {\n",
       "  display: inline-block;\n",
       "}\n",
       "\n",
       ".xr-dim-list {\n",
       "  display: inline-block !important;\n",
       "  list-style: none;\n",
       "  padding: 0 !important;\n",
       "  margin: 0;\n",
       "}\n",
       "\n",
       ".xr-dim-list li {\n",
       "  display: inline-block;\n",
       "  padding: 0;\n",
       "  margin: 0;\n",
       "}\n",
       "\n",
       ".xr-dim-list:before {\n",
       "  content: '(';\n",
       "}\n",
       "\n",
       ".xr-dim-list:after {\n",
       "  content: ')';\n",
       "}\n",
       "\n",
       ".xr-dim-list li:not(:last-child):after {\n",
       "  content: ',';\n",
       "  padding-right: 5px;\n",
       "}\n",
       "\n",
       ".xr-has-index {\n",
       "  font-weight: bold;\n",
       "}\n",
       "\n",
       ".xr-var-list,\n",
       ".xr-var-item {\n",
       "  display: contents;\n",
       "}\n",
       "\n",
       ".xr-var-item > div,\n",
       ".xr-var-item label,\n",
       ".xr-var-item > .xr-var-name span {\n",
       "  background-color: var(--xr-background-color-row-even);\n",
       "  margin-bottom: 0;\n",
       "}\n",
       "\n",
       ".xr-var-item > .xr-var-name:hover span {\n",
       "  padding-right: 5px;\n",
       "}\n",
       "\n",
       ".xr-var-list > li:nth-child(odd) > div,\n",
       ".xr-var-list > li:nth-child(odd) > label,\n",
       ".xr-var-list > li:nth-child(odd) > .xr-var-name span {\n",
       "  background-color: var(--xr-background-color-row-odd);\n",
       "}\n",
       "\n",
       ".xr-var-name {\n",
       "  grid-column: 1;\n",
       "}\n",
       "\n",
       ".xr-var-dims {\n",
       "  grid-column: 2;\n",
       "}\n",
       "\n",
       ".xr-var-dtype {\n",
       "  grid-column: 3;\n",
       "  text-align: right;\n",
       "  color: var(--xr-font-color2);\n",
       "}\n",
       "\n",
       ".xr-var-preview {\n",
       "  grid-column: 4;\n",
       "}\n",
       "\n",
       ".xr-var-name,\n",
       ".xr-var-dims,\n",
       ".xr-var-dtype,\n",
       ".xr-preview,\n",
       ".xr-attrs dt {\n",
       "  white-space: nowrap;\n",
       "  overflow: hidden;\n",
       "  text-overflow: ellipsis;\n",
       "  padding-right: 10px;\n",
       "}\n",
       "\n",
       ".xr-var-name:hover,\n",
       ".xr-var-dims:hover,\n",
       ".xr-var-dtype:hover,\n",
       ".xr-attrs dt:hover {\n",
       "  overflow: visible;\n",
       "  width: auto;\n",
       "  z-index: 1;\n",
       "}\n",
       "\n",
       ".xr-var-attrs,\n",
       ".xr-var-data {\n",
       "  display: none;\n",
       "  background-color: var(--xr-background-color) !important;\n",
       "  padding-bottom: 5px !important;\n",
       "}\n",
       "\n",
       ".xr-var-attrs-in:checked ~ .xr-var-attrs,\n",
       ".xr-var-data-in:checked ~ .xr-var-data {\n",
       "  display: block;\n",
       "}\n",
       "\n",
       ".xr-var-data > table {\n",
       "  float: right;\n",
       "}\n",
       "\n",
       ".xr-var-name span,\n",
       ".xr-var-data,\n",
       ".xr-attrs {\n",
       "  padding-left: 25px !important;\n",
       "}\n",
       "\n",
       ".xr-attrs,\n",
       ".xr-var-attrs,\n",
       ".xr-var-data {\n",
       "  grid-column: 1 / -1;\n",
       "}\n",
       "\n",
       "dl.xr-attrs {\n",
       "  padding: 0;\n",
       "  margin: 0;\n",
       "  display: grid;\n",
       "  grid-template-columns: 125px auto;\n",
       "}\n",
       "\n",
       ".xr-attrs dt,\n",
       ".xr-attrs dd {\n",
       "  padding: 0;\n",
       "  margin: 0;\n",
       "  float: left;\n",
       "  padding-right: 10px;\n",
       "  width: auto;\n",
       "}\n",
       "\n",
       ".xr-attrs dt {\n",
       "  font-weight: normal;\n",
       "  grid-column: 1;\n",
       "}\n",
       "\n",
       ".xr-attrs dt:hover span {\n",
       "  display: inline-block;\n",
       "  background: var(--xr-background-color);\n",
       "  padding-right: 10px;\n",
       "}\n",
       "\n",
       ".xr-attrs dd {\n",
       "  grid-column: 2;\n",
       "  white-space: pre-wrap;\n",
       "  word-break: break-all;\n",
       "}\n",
       "\n",
       ".xr-icon-database,\n",
       ".xr-icon-file-text2 {\n",
       "  display: inline-block;\n",
       "  vertical-align: middle;\n",
       "  width: 1em;\n",
       "  height: 1.5em !important;\n",
       "  stroke-width: 0;\n",
       "  stroke: currentColor;\n",
       "  fill: currentColor;\n",
       "}\n",
       "</style><pre class='xr-text-repr-fallback'>&lt;xarray.DataArray &#x27;ozone_total_vertical_column&#x27; (scanline: 4029,\n",
       "                                                 ground_pixel: 450)&gt;\n",
       "[1813050 values with dtype=float32]\n",
       "Coordinates:\n",
       "  * scanline      (scanline) float64 0.0 1.0 2.0 ... 4.027e+03 4.028e+03\n",
       "  * ground_pixel  (ground_pixel) float64 0.0 1.0 2.0 3.0 ... 447.0 448.0 449.0\n",
       "    time          datetime64[ns] 2022-01-16\n",
       "Attributes:\n",
       "    units:                                                 mol m-2\n",
       "    standard_name:                                         atmosphere_mole_co...\n",
       "    long_name:                                             total ozone column\n",
       "    coordinates:                                           /PRODUCT/longitude...\n",
       "    multiplication_factor_to_convert_to_DU:                2241.15\n",
       "    multiplication_factor_to_convert_to_molecules_percm2:  6.02214e+19</pre><div class='xr-wrap' style='display:none'><div class='xr-header'><div class='xr-obj-type'>xarray.DataArray</div><div class='xr-array-name'>'ozone_total_vertical_column'</div><ul class='xr-dim-list'><li><span class='xr-has-index'>scanline</span>: 4029</li><li><span class='xr-has-index'>ground_pixel</span>: 450</li></ul></div><ul class='xr-sections'><li class='xr-section-item'><div class='xr-array-wrap'><input id='section-68ff8a6b-3831-410c-a016-7e18afc37671' class='xr-array-in' type='checkbox' checked><label for='section-68ff8a6b-3831-410c-a016-7e18afc37671' title='Show/hide data repr'><svg class='icon xr-icon-database'><use xlink:href='#icon-database'></use></svg></label><div class='xr-array-preview xr-preview'><span>...</span></div><div class='xr-array-data'><pre>[1813050 values with dtype=float32]</pre></div></div></li><li class='xr-section-item'><input id='section-cf4ac54a-8a4f-4444-81bd-e2e58f1843fd' class='xr-section-summary-in' type='checkbox'  checked><label for='section-cf4ac54a-8a4f-4444-81bd-e2e58f1843fd' class='xr-section-summary' >Coordinates: <span>(3)</span></label><div class='xr-section-inline-details'></div><div class='xr-section-details'><ul class='xr-var-list'><li class='xr-var-item'><div class='xr-var-name'><span class='xr-has-index'>scanline</span></div><div class='xr-var-dims'>(scanline)</div><div class='xr-var-dtype'>float64</div><div class='xr-var-preview xr-preview'>0.0 1.0 2.0 ... 4.027e+03 4.028e+03</div><input id='attrs-98e9c8d8-5b8b-4a22-b2ff-7fd7f4cbf54a' class='xr-var-attrs-in' type='checkbox' ><label for='attrs-98e9c8d8-5b8b-4a22-b2ff-7fd7f4cbf54a' title='Show/Hide attributes'><svg class='icon xr-icon-file-text2'><use xlink:href='#icon-file-text2'></use></svg></label><input id='data-71b4ad6f-7aee-41b9-b19e-0591be73383a' class='xr-var-data-in' type='checkbox'><label for='data-71b4ad6f-7aee-41b9-b19e-0591be73383a' title='Show/Hide data repr'><svg class='icon xr-icon-database'><use xlink:href='#icon-database'></use></svg></label><div class='xr-var-attrs'><dl class='xr-attrs'><dt><span>units :</span></dt><dd>1</dd><dt><span>axis :</span></dt><dd>Y</dd><dt><span>long_name :</span></dt><dd>along-track dimension index</dd><dt><span>comment :</span></dt><dd>This coordinate variable defines the indices along track; index starts at 0</dd></dl></div><div class='xr-var-data'><pre>array([0.000e+00, 1.000e+00, 2.000e+00, ..., 4.026e+03, 4.027e+03, 4.028e+03])</pre></div></li><li class='xr-var-item'><div class='xr-var-name'><span class='xr-has-index'>ground_pixel</span></div><div class='xr-var-dims'>(ground_pixel)</div><div class='xr-var-dtype'>float64</div><div class='xr-var-preview xr-preview'>0.0 1.0 2.0 ... 447.0 448.0 449.0</div><input id='attrs-10c5db4f-1215-4f3e-ba23-a67bdada5d8d' class='xr-var-attrs-in' type='checkbox' ><label for='attrs-10c5db4f-1215-4f3e-ba23-a67bdada5d8d' title='Show/Hide attributes'><svg class='icon xr-icon-file-text2'><use xlink:href='#icon-file-text2'></use></svg></label><input id='data-e947f942-a670-47af-9c23-a4c38a28c3fd' class='xr-var-data-in' type='checkbox'><label for='data-e947f942-a670-47af-9c23-a4c38a28c3fd' title='Show/Hide data repr'><svg class='icon xr-icon-database'><use xlink:href='#icon-database'></use></svg></label><div class='xr-var-attrs'><dl class='xr-attrs'><dt><span>units :</span></dt><dd>1</dd><dt><span>axis :</span></dt><dd>X</dd><dt><span>long_name :</span></dt><dd>across-track dimension index</dd><dt><span>comment :</span></dt><dd>This coordinate variable defines the indices across track, from west to east; index starts at 0</dd></dl></div><div class='xr-var-data'><pre>array([  0.,   1.,   2., ..., 447., 448., 449.])</pre></div></li><li class='xr-var-item'><div class='xr-var-name'><span>time</span></div><div class='xr-var-dims'>()</div><div class='xr-var-dtype'>datetime64[ns]</div><div class='xr-var-preview xr-preview'>2022-01-16</div><input id='attrs-dc7855b7-006f-46a7-8895-da7211ad42d6' class='xr-var-attrs-in' type='checkbox' ><label for='attrs-dc7855b7-006f-46a7-8895-da7211ad42d6' title='Show/Hide attributes'><svg class='icon xr-icon-file-text2'><use xlink:href='#icon-file-text2'></use></svg></label><input id='data-77907f93-8af3-4cc6-bf50-86e43223d59e' class='xr-var-data-in' type='checkbox'><label for='data-77907f93-8af3-4cc6-bf50-86e43223d59e' title='Show/Hide data repr'><svg class='icon xr-icon-database'><use xlink:href='#icon-database'></use></svg></label><div class='xr-var-attrs'><dl class='xr-attrs'><dt><span>standard_name :</span></dt><dd>time</dd><dt><span>axis :</span></dt><dd>T</dd><dt><span>long_name :</span></dt><dd>reference time for the measurements</dd><dt><span>comment :</span></dt><dd>The time in this variable corresponds to the time in the time_reference global attribute</dd></dl></div><div class='xr-var-data'><pre>array(&#x27;2022-01-16T00:00:00.000000000&#x27;, dtype=&#x27;datetime64[ns]&#x27;)</pre></div></li></ul></div></li><li class='xr-section-item'><input id='section-d3010e51-cccd-4238-a8c1-90a700d95396' class='xr-section-summary-in' type='checkbox'  checked><label for='section-d3010e51-cccd-4238-a8c1-90a700d95396' class='xr-section-summary' >Attributes: <span>(6)</span></label><div class='xr-section-inline-details'></div><div class='xr-section-details'><dl class='xr-attrs'><dt><span>units :</span></dt><dd>mol m-2</dd><dt><span>standard_name :</span></dt><dd>atmosphere_mole_content_of_ozone</dd><dt><span>long_name :</span></dt><dd>total ozone column</dd><dt><span>coordinates :</span></dt><dd>/PRODUCT/longitude /PRODUCT/latitude</dd><dt><span>multiplication_factor_to_convert_to_DU :</span></dt><dd>2241.15</dd><dt><span>multiplication_factor_to_convert_to_molecules_percm2 :</span></dt><dd>6.02214e+19</dd></dl></div></li></ul></div></div>"
      ],
      "text/plain": [
       "<xarray.DataArray 'ozone_total_vertical_column' (scanline: 4029,\n",
       "                                                 ground_pixel: 450)>\n",
       "[1813050 values with dtype=float32]\n",
       "Coordinates:\n",
       "  * scanline      (scanline) float64 0.0 1.0 2.0 ... 4.027e+03 4.028e+03\n",
       "  * ground_pixel  (ground_pixel) float64 0.0 1.0 2.0 3.0 ... 447.0 448.0 449.0\n",
       "    time          datetime64[ns] 2022-01-16\n",
       "Attributes:\n",
       "    units:                                                 mol m-2\n",
       "    standard_name:                                         atmosphere_mole_co...\n",
       "    long_name:                                             total ozone column\n",
       "    coordinates:                                           /PRODUCT/longitude...\n",
       "    multiplication_factor_to_convert_to_DU:                2241.15\n",
       "    multiplication_factor_to_convert_to_molecules_percm2:  6.02214e+19"
      ]
     },
     "execution_count": 8,
     "metadata": {},
     "output_type": "execute_result"
    }
   ],
   "source": [
    "jan16_tropomi.isel(time=0).variables\n",
    "jan16_tropomi.isel(time=0)['ozone_total_vertical_column']"
   ]
  },
  {
   "cell_type": "code",
   "execution_count": 9,
   "id": "14a0a409",
   "metadata": {},
   "outputs": [
    {
     "name": "stdout",
     "output_type": "stream",
     "text": [
      "If you change menu selections (e.g., to run another search), do NOT re-run this block!\n",
      "Re-running will re-set all menus to their defaults!\n"
     ]
    },
    {
     "data": {
      "application/vnd.jupyter.widget-view+json": {
       "model_id": "c749dcb5856c4c0e908c4c244e6011d2",
       "version_major": 2,
       "version_minor": 0
      },
      "text/plain": [
       "Dropdown(description='Product:', layout=Layout(width='300px'), options=(('Ozone', 'O3'), ('Aerosol Index', 'AI…"
      ]
     },
     "metadata": {},
     "output_type": "display_data"
    },
    {
     "data": {
      "application/vnd.jupyter.widget-view+json": {
       "model_id": "8e6568c24beb47488c590e208a2afda6",
       "version_major": 2,
       "version_minor": 0
      },
      "text/plain": [
       "Dropdown(description='Data Latency:', layout=Layout(width='300px'), options=('Near real time', 'Offline', 'Rep…"
      ]
     },
     "metadata": {},
     "output_type": "display_data"
    },
    {
     "data": {
      "application/vnd.jupyter.widget-view+json": {
       "model_id": "13b072edf6934861846f31bd98bbcee2",
       "version_major": 2,
       "version_minor": 0
      },
      "text/plain": [
       "HBox(children=(Dropdown(description='Start Year:', layout=Layout(width='300px'), options=('2018', '2019', '202…"
      ]
     },
     "metadata": {},
     "output_type": "display_data"
    },
    {
     "data": {
      "application/vnd.jupyter.widget-view+json": {
       "model_id": "45bb6ca378a7422fa14f396d8b6d93f9",
       "version_major": 2,
       "version_minor": 0
      },
      "text/plain": [
       "HBox(children=(Dropdown(description='End Year:', layout=Layout(width='300px'), options=('2018', '2019', '2020'…"
      ]
     },
     "metadata": {},
     "output_type": "display_data"
    },
    {
     "data": {
      "application/vnd.jupyter.widget-view+json": {
       "model_id": "bbb5f35c073e4663938b0761f05aac51",
       "version_major": 2,
       "version_minor": 0
      },
      "text/plain": [
       "Label(value='ENTER LATITUDE/LONGITUDE BOUNDARIES FOR SEARCH AREA (use up/down arrows or type in value)', layou…"
      ]
     },
     "metadata": {},
     "output_type": "display_data"
    },
    {
     "data": {
      "application/vnd.jupyter.widget-view+json": {
       "model_id": "5397c9f64e464fdf93a452ec38e6e632",
       "version_major": 2,
       "version_minor": 0
      },
      "text/plain": [
       "HBox(children=(BoundedFloatText(value=0.0, description='Northern-most Latitude:', layout=Layout(height='30px',…"
      ]
     },
     "metadata": {},
     "output_type": "display_data"
    },
    {
     "data": {
      "application/vnd.jupyter.widget-view+json": {
       "model_id": "5f1e367c0bd04173ac10bc82c53d628c",
       "version_major": 2,
       "version_minor": 0
      },
      "text/plain": [
       "HBox(children=(BoundedFloatText(value=0.0, description='Western-most Longitude:', layout=Layout(height='30px',…"
      ]
     },
     "metadata": {},
     "output_type": "display_data"
    },
    {
     "data": {
      "application/vnd.jupyter.widget-view+json": {
       "model_id": "d95b4d45c6fa44dc9519813524ec8e2f",
       "version_major": 2,
       "version_minor": 0
      },
      "text/plain": [
       "HBox(children=(BoundedFloatText(value=0.0, description='Southern-most Latitude:', layout=Layout(height='30px',…"
      ]
     },
     "metadata": {},
     "output_type": "display_data"
    }
   ],
   "source": [
    "# Enter product, data latency, observation start/end dates and domain boundaries for file search\n",
    "# Selections are made using interactive Jupyter Notebook widgets\n",
    "# Run this block *once* to generate menus\n",
    "# When main function is run, it reads \".value\" of each menu selection\n",
    "# Do NOT re-run block if you change menu selections (re-running block resets menus to defaults)!\n",
    "\n",
    "# Formatting settings for drop-down menus\n",
    "style = {'description_width':'140px'}\n",
    "layout = widgets.Layout(width='300px')\n",
    "\n",
    "# Create drop-down menus using widgets\n",
    "product = widgets.Dropdown(options=[('Ozone', 'O3'), ('Aerosol Index', 'AI'), ('Aerosol Layer Height', 'ALH'), ('Carbon Monoxide', 'CO'), ('Formaldehyde', 'HCHO'), ('Nitrogen Dioxide', 'NO2'), ('Sulfur Dioxide', 'SO2')], description='Product:', style=style, layout=layout)\n",
    "latency = widgets.Dropdown(options=[('Near real time'), ('Offline'), ('Reprocessing') ], description='Data Latency:', style=style, layout=layout)\n",
    "start_year = widgets.Dropdown(options=[('2018'), ('2019'), ('2020'), ('2021'), ('2022'), ('2023'), ('2024')], description='Start Year:', style=style, layout=layout)\n",
    "start_month = widgets.Dropdown(options=[('Jan', '01'), ('Feb', '02'), ('Mar', '03'), ('Apr', '04'), ('May', '05'), ('Jun', '06'), ('Jul', '07'), ('Aug', '08'), ('Sep', '09'), ('Oct', '10'), ('Nov', '11'), ('Dec', '12')], description='Start Month:', style=style, layout=layout)\n",
    "start_day = widgets.Dropdown(options=[('01'), ('02'), ('03'), ('04'), ('05'), ('06'), ('07'), ('08'), ('09'), ('10'), ('11'), ('12'), ('13'), ('14'), ('15'), ('16'), ('17'), ('18'), ('19'), ('20'), ('21'), ('22'), ('23'), ('24'), ('25'), ('26'), ('27'), ('28'), ('29'), ('30'), ('31')], description='Start Day:', style=style, layout=layout)\n",
    "end_year = widgets.Dropdown(options=[('2018'), ('2019'), ('2020'), ('2021'), ('2022'), ('2023'), ('2024')], description='End Year:', style=style, layout=layout)\n",
    "end_month = widgets.Dropdown(options=[('Jan', '01'), ('Feb', '02'), ('Mar', '03'), ('Apr', '04'), ('May', '05'), ('Jun', '06'), ('Jul', '07'), ('Aug', '08'), ('Sep', '09'), ('Oct', '10'), ('Nov', '11'), ('Dec', '12')], description='End Month:', style=style, layout=layout)\n",
    "end_day = widgets.Dropdown(options=[('01'), ('02'), ('03'), ('04'), ('05'), ('06'), ('07'), ('08'), ('09'), ('10'), ('11'), ('12'), ('13'), ('14'), ('15'), ('16'), ('17'), ('18'), ('19'), ('20'), ('21'), ('22'), ('23'), ('24'), ('25'), ('26'), ('27'), ('28'), ('29'), ('30'), ('31')], description='End Day:', style=style, layout=layout)\n",
    "\n",
    "# Caption for map domain boundaries\n",
    "domain_caption = widgets.Label(value='ENTER LATITUDE/LONGITUDE BOUNDARIES FOR SEARCH AREA (use up/down arrows or type in value)', layout=widgets.Layout(height='30px'))\n",
    "\n",
    "# Format observation start/end dates menus to display side-by-side\n",
    "start_date = widgets.HBox([start_year, start_month, start_day])\n",
    "end_date = widgets.HBox([end_year, end_month, end_day])\n",
    "\n",
    "# Create numerical (float) text entry widgets for map boundary corners\n",
    "west_lon_float = widgets.BoundedFloatText(description='Western-most Longitude:', value=0, min=-180, max=180, disabled=False, layout=widgets.Layout(width='250px', height='30px'), style={'description_width':'150px'})\n",
    "east_lon_float = widgets.BoundedFloatText(description='Eastern-most Longitude:', value=0, min=-180, max=180, disabled=False, layout=widgets.Layout(width='250px', height='30px'), style={'description_width':'150px'})\n",
    "lon_label = widgets.Label(value='(use negative values to indicate °W, e.g., 100 °W = -100)', layout=widgets.Layout(width='400px'))\n",
    "lon_box = widgets.HBox([west_lon_float, east_lon_float, lon_label])\n",
    "north_lat_float = widgets.BoundedFloatText(description='Northern-most Latitude:', value=0, min=-90, max=90, disabled=False, layout=widgets.Layout(width='400px', height='30px'), style={'description_width':'300px'})\n",
    "south_lat_float = widgets.BoundedFloatText(description='Southern-most Latitude:', value=0, min=-90, max=90, disabled=False, layout=widgets.Layout(width='400px', height='30px'), style={'description_width':'300px'})\n",
    "lat_label = widgets.Label(value='(use negative values to indicate °S, e.g., 30 °S = -30)', layout=widgets.Layout(width='400px'))\n",
    "north_lat_box = widgets.HBox([north_lat_float, lat_label])\n",
    "south_lat_box = widgets.HBox([south_lat_float, lat_label])\n",
    "\n",
    "# Display drop-down menus\n",
    "print('If you change menu selections (e.g., to run another search), do NOT re-run this block!\\nRe-running will re-set all menus to their defaults!')\n",
    "display(product, latency)\n",
    "display(start_date, end_date)\n",
    "display(domain_caption, north_lat_box, lon_box, south_lat_box)"
   ]
  },
  {
   "cell_type": "code",
   "execution_count": 10,
   "id": "47988921",
   "metadata": {},
   "outputs": [],
   "source": [
    "# Convert user-entered date format to that used by Sentinel API\n",
    "# \"year\", \"month\", \"day\": parameter variables from widget menu, set in main function\n",
    "\n",
    "def convert_date_sentinel_api_format(year, month, day):\n",
    "    \n",
    "    # add dashes b/w year/month and month/day\n",
    "    formatted_date = year + '-' + month + '-' + day\n",
    "\n",
    "    return formatted_date"
   ]
  },
  {
   "cell_type": "code",
   "execution_count": 11,
   "id": "42becd22",
   "metadata": {},
   "outputs": [],
   "source": [
    "# Get product abbrevation used in TROPOMI file name\n",
    "# \"product\": parameter variable from widget menu, set in main function\n",
    "\n",
    "def get_tropomi_product_abbreviation(product):\n",
    "    if product == 'CO':\n",
    "        product_abbreviation = 'L2__CO____'\n",
    "    elif product == 'O3':\n",
    "        product_abbreviation = 'L2__O3____'\n",
    "    elif product == 'NO2':\n",
    "        product_abbreviation = 'L2__NO2___'\n",
    "    elif product == 'SO2':\n",
    "        product_abbreviation = 'L2__SO2___'\n",
    "    elif product == 'HCHO':\n",
    "        product_abbreviation = 'L2__HCHO__'\n",
    "    elif product == 'AI':\n",
    "        product_abbreviation = 'L2__AER_AI'\n",
    "    elif product == 'ALH':\n",
    "        product_abbreviation = 'L2__AER_LH'\n",
    "\n",
    "    return product_abbreviation"
   ]
  },
  {
   "cell_type": "code",
   "execution_count": null,
   "id": "2d875e7e",
   "metadata": {},
   "outputs": [],
   "source": [
    "# Create list of TROPOMI data file names for user-entered product, latency, search region, and date range\n",
    "# \"product_abbreviation\": parameter variable from \"get_tropomi_product_abbreviation(product)\" function\n",
    "# \"start_date\", \"end_date\": parameter variables from \"convert_date_sentinel_api_format(year, month, day)\" function\n",
    "# \"west_lon\", \"east_lon\", \"south_lat\", \"north_lat\", \"latency\": parameter variables from widget menus, set in main function\n",
    "\n",
    "def tropomi_list_files(west_lon, east_lon, south_lat, north_lat, start_date, end_date, product_abbreviation, latency):\n",
    "\n",
    "    # Access S5P Data Hub using guest login credentials\n",
    "    api = SentinelAPI('s5pguest', 's5pguest', 'APIHub')  # https://s5phub.copernicus.eu/dhus\n",
    "   \n",
    "    # Query API for specified region, start/end dates, data product\n",
    "    footprint = 'POLYGON((' + west_lon + ' ' + south_lat + ',' + east_lon + ' ' + south_lat + ',' + east_lon + ' ' + north_lat + ',' + west_lon + ' ' + north_lat + ',' + west_lon + ' ' + south_lat + '))'\n",
    "    try:\n",
    "        products = api.query(area=footprint, date=(start_date + 'T00:00:00Z', end_date + 'T23:59:59Z'), producttype=product_abbreviation, processingmode=latency)\n",
    "    except:\n",
    "        print('Error connecting to SciHub server. This happens periodically. Run code again.')\n",
    "    \n",
    "    # Convert query output to pandas dataframe (df) (part of Sentinelsat library)\n",
    "    products_df = api.to_dataframe(products)\n",
    "    \n",
    "    # Extract data file names from dataframe to list\n",
    "    if len(products_df) > 0:\n",
    "        file_name_list = products_df['filename'].tolist()\n",
    "        file_size_list = products_df['size'].tolist()\n",
    "    else:\n",
    "        file_name_list = []\n",
    "        file_size_list = []\n",
    "    \n",
    "    return file_name_list, file_size_list, products"
   ]
  },
  {
   "cell_type": "code",
   "execution_count": null,
   "id": "ae8ee8b4",
   "metadata": {},
   "outputs": [],
   "source": [
    "# Download TROPOMI data files\n",
    "# \"save_path\": parameter variable set in main function\n",
    "# \"products\": parameter variable from \"tropomi_list_files( )\" function\n",
    "\n",
    "def tropomi_download_files(products, save_path):\n",
    "    \n",
    "    # Query S5P Data Hub using guest login credentials\n",
    "    api = SentinelAPI('s5pguest', 's5pguest', 'APIHub')\n",
    "    \n",
    "    # Download data files to specified subdirectory\n",
    "    # Note: Sentinelsat library includes tqdm download progress bar\n",
    "    for product in products:\n",
    "        try:\n",
    "            api.download(product, save_path)\n",
    "        except KeyboardInterrupt:\n",
    "            print('\\nDownload was interrupted by user.')"
   ]
  },
  {
   "cell_type": "code",
   "execution_count": null,
   "id": "d6c28e39",
   "metadata": {},
   "outputs": [],
   "source": [
    "# Print available TROPOMI data files that match user specifications, with option to download files\n",
    "# \"save_path\": parameter variable set in main function\n",
    "# \"product_abbreviation\": parameter variable from \"get_tropomi_product_abbreviation(product)\" function\n",
    "# \"start_date\", \"end_date\": parameter variables from \"convert_date_sentinel_api_format(date)\" function\n",
    "# \"west_lon\", \"south_lat\", \"east_lon\", \"north_lat\", \"latency\": parameter variables from widget menus, set in main function\n",
    "\n",
    "def get_tropomi_files(west_lon, east_lon, south_lat, north_lat, start_date, end_date, product_abbreviation, latency, save_path):\n",
    "    \n",
    "    # Query S5P Data Hub and list file names matching user-entered info\n",
    "    file_name_list, file_size_list, products = tropomi_list_files(west_lon, east_lon, south_lat, north_lat, start_date, end_date, product_abbreviation, latency)\n",
    "    \n",
    "    # Print list of available file names/sizes\n",
    "    if len(file_name_list) > 0:\n",
    "        print('\\nList of available data files (file size):')\n",
    "        for file, size in zip(file_name_list, file_size_list):\n",
    "            print(file, ' (', size, ')', sep='')\n",
    "        \n",
    "        # Print directory where files will be saved\n",
    "        print('\\nData files will be saved to:', save_path)\n",
    "        \n",
    "        # Ask user if they want to download the available data files\n",
    "        # If yes, download files to specified directory\n",
    "        download_question = 'Would you like to download the ' + str(len(file_name_list)) + ' files?\\nType \"yes\" or \"no\" and hit \"Enter\"\\n'\n",
    "        ask_download = input(download_question)\n",
    "        if ask_download in ['yes', 'YES', 'Yes', 'y', 'Y']:\n",
    "            tropomi_download_files(products, save_path)\n",
    "        else:\n",
    "            print('\\nFiles are not being downloaded.')\n",
    "    else:\n",
    "        print('\\nNo files retrieved.  Check settings and try again.')"
   ]
  },
  {
   "cell_type": "code",
   "execution_count": null,
   "id": "552860fd",
   "metadata": {},
   "outputs": [],
   "source": [
    "# Execute search to find available TROPOMI L2 data files, with option to download files\n",
    "# Get values from widget menus (search parameters) using \".value\"\n",
    "\n",
    "# Main function\n",
    "if __name__ == '__main__':\n",
    "    \n",
    "    # Set directory to save downloaded files (as pathlib.Path object)\n",
    "    # Use current working directory for simplicity\n",
    "    save_path = r\"/Users/lukebrown/Downloads\"\n",
    "    \n",
    "    # Get TROPOMI product abbreviation used in file name\n",
    "    product_abbreviation = get_tropomi_product_abbreviation(product.value)\n",
    "    \n",
    "    # Change user-entered observation year/month/day for observation period to format used by Sentinel API\n",
    "    start_date = convert_date_sentinel_api_format(start_year.value, start_month.value, start_day.value)\n",
    "    end_date = convert_date_sentinel_api_format(end_year.value, end_month.value, end_day.value)\n",
    "    \n",
    "    # Convert latitude/longitude values entered as floats to string format used by Sentinel API\n",
    "    west_lon = str(west_lon_float.value)\n",
    "    east_lon = str(east_lon_float.value)\n",
    "    south_lat = str(south_lat_float.value)\n",
    "    north_lat = str(north_lat_float.value)\n",
    "    \n",
    "    # Execute script\n",
    "    get_tropomi_files(west_lon, east_lon, south_lat, north_lat, start_date, end_date, product_abbreviation, latency.value, save_path)"
   ]
  },
  {
   "cell_type": "code",
   "execution_count": null,
   "id": "9c9a1340",
   "metadata": {},
   "outputs": [],
   "source": []
  }
 ],
 "metadata": {
  "kernelspec": {
   "display_name": "Python 3 (ipykernel)",
   "language": "python",
   "name": "python3"
  },
  "language_info": {
   "codemirror_mode": {
    "name": "ipython",
    "version": 3
   },
   "file_extension": ".py",
   "mimetype": "text/x-python",
   "name": "python",
   "nbconvert_exporter": "python",
   "pygments_lexer": "ipython3",
   "version": "3.9.13"
  }
 },
 "nbformat": 4,
 "nbformat_minor": 5
}

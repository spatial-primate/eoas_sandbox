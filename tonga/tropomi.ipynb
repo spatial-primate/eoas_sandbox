{
 "cells": [
  {
   "cell_type": "markdown",
   "id": "dabd71c5",
   "metadata": {},
   "source": [
    "# IVESPA and TROPOMI"
   ]
  },
  {
   "cell_type": "code",
   "execution_count": 1,
   "id": "2aebf532",
   "metadata": {},
   "outputs": [
    {
     "data": {
      "text/html": [
       "<style>.container { width:100% !important; }</style>"
      ],
      "text/plain": [
       "<IPython.core.display.HTML object>"
      ]
     },
     "metadata": {},
     "output_type": "display_data"
    }
   ],
   "source": [
    "# imports\n",
    "import pandas as pd\n",
    "import numpy as np\n",
    "\n",
    "# module to connect to the Copernicus Open Access Hubs\n",
    "from sentinelsat import SentinelAPI\n",
    "\n",
    "# MGMT\n",
    "import datetime\n",
    "from pathlib import Path\n",
    "\n",
    "# create interactive menus in jupyter notebook (NB: won't work for jupyter lab)\n",
    "from IPython.display import display\n",
    "import ipywidgets as widgets\n",
    "\n",
    "from IPython.display import display, HTML\n",
    "display(HTML(\"<style>.container { width:100% !important; }</style>\"))"
   ]
  },
  {
   "cell_type": "code",
   "execution_count": null,
   "id": "852ca5f9",
   "metadata": {},
   "outputs": [],
   "source": [
    "avogadro = 6.022e23  # particles/mol\n",
    "density_so2 = 2.619e-3  # g/cm3\n",
    "paint_thickness = 3e-7  # diameter SO2 in cm\n",
    "molar_mass_so2 = 64.04  # g/mol"
   ]
  },
  {
   "cell_type": "code",
   "execution_count": null,
   "id": "06dbb98f",
   "metadata": {},
   "outputs": [],
   "source": [
    "rough_site_density = avogadro * density_so2 * paint_thickness / molar_mass_so2  # molecules / cm2\n",
    "rough_site_density"
   ]
  },
  {
   "cell_type": "code",
   "execution_count": null,
   "id": "1ab75152",
   "metadata": {},
   "outputs": [],
   "source": [
    "def report_kelvin_to_celsius(temperature):\n",
    "    print(f\"given temperature: {temperature} K,\\n{temperature - 273.15:.2f} when converted to celsius\\n\")\n",
    "    return (temperature - 273.15)\n",
    "\n",
    "\n",
    "def stokes_settling_velocity(particle_diameter, particle_density=2700):\n",
    "    g = 9.8  # m/s2\n",
    "    air_density = 1.204  # kg/m3\n",
    "    air_viscosity = 18.03e-6  # Pa-s\n",
    "    return 2 * g * (particle_density - air_density) * particle_diameter **2 / (9 * air_viscosity)\n",
    "\n",
    "\n",
    "def particle_reynolds_number(particle_diameter, settling_velocity, kinematic_viscosity=14.88e-6):\n",
    "    return particle_diameter * settling_velocity / kinematic_viscosity\n",
    "\n",
    "for temperature in [253.1, 245, 240.]:\n",
    "    report_kelvin_to_celsius(temperature)  #, 245 - 273.15, 240 - 273.15"
   ]
  },
  {
   "cell_type": "code",
   "execution_count": null,
   "id": "e5e7daad",
   "metadata": {},
   "outputs": [],
   "source": [
    "particle_diameters = np.logspace(-6, -1, 10)  # 1 mm lapilli\n",
    "for particle_diameter in particle_diameters:\n",
    "    print(particle_diameter, stokes_settling_velocity(particle_diameter), particle_reynolds_number(particle_diameter, stokes_settling_velocity(particle_diameter)))"
   ]
  },
  {
   "cell_type": "markdown",
   "id": "59a371ec",
   "metadata": {},
   "source": [
    "## TROPOMI DOWNLOAD WORKFLOW"
   ]
  },
  {
   "cell_type": "code",
   "execution_count": null,
   "id": "fdf1d96d",
   "metadata": {},
   "outputs": [],
   "source": [
    "tropomi_directory = r\"/Users/lukebrown/Library/CloudStorage/Dropbox/tonga/tropomi/tropomi\""
   ]
  },
  {
   "cell_type": "code",
   "execution_count": null,
   "id": "7576ccbf",
   "metadata": {},
   "outputs": [],
   "source": [
    "import os\n",
    "print(os.getcwd())\n",
    "print(Path.cwd())\n",
    "\n",
    "os.listdir(tropomi_directory)"
   ]
  },
  {
   "cell_type": "code",
   "execution_count": null,
   "id": "f57ae471",
   "metadata": {},
   "outputs": [],
   "source": [
    "import xarray as xr\n",
    "jan16_tropomi = xr.open_dataset(os.path.join(tropomi_directory, os.listdir(tropomi_directory)[0]), \n",
    "                                group='PRODUCT')"
   ]
  },
  {
   "cell_type": "code",
   "execution_count": null,
   "id": "ec1e05cb",
   "metadata": {},
   "outputs": [],
   "source": [
    "jan16_tropomi.isel(time=0).variables\n",
    "jan16_tropomi.isel(time=0)['ozone_total_vertical_column']"
   ]
  },
  {
   "cell_type": "code",
   "execution_count": 2,
   "id": "14a0a409",
   "metadata": {},
   "outputs": [
    {
     "name": "stdout",
     "output_type": "stream",
     "text": [
      "If you change menu selections (e.g., to run another search), do NOT re-run this block!\n",
      "Re-running will re-set all menus to their defaults!\n"
     ]
    },
    {
     "data": {
      "application/vnd.jupyter.widget-view+json": {
       "model_id": "1f4be5e83b5741f49f35fed7c4741247",
       "version_major": 2,
       "version_minor": 0
      },
      "text/plain": [
       "Dropdown(description='Product:', layout=Layout(width='300px'), options=(('Ozone', 'O3'), ('Aerosol Index', 'AI…"
      ]
     },
     "metadata": {},
     "output_type": "display_data"
    },
    {
     "data": {
      "application/vnd.jupyter.widget-view+json": {
       "model_id": "ac00e2b3bf0a4b91837e7d53e1fd2f97",
       "version_major": 2,
       "version_minor": 0
      },
      "text/plain": [
       "Dropdown(description='Data Latency:', layout=Layout(width='300px'), options=('Near real time', 'Offline', 'Rep…"
      ]
     },
     "metadata": {},
     "output_type": "display_data"
    },
    {
     "data": {
      "application/vnd.jupyter.widget-view+json": {
       "model_id": "fe436617d77644289f5798445bf586ea",
       "version_major": 2,
       "version_minor": 0
      },
      "text/plain": [
       "HBox(children=(Dropdown(description='Start Year:', layout=Layout(width='300px'), options=('2018', '2019', '202…"
      ]
     },
     "metadata": {},
     "output_type": "display_data"
    },
    {
     "data": {
      "application/vnd.jupyter.widget-view+json": {
       "model_id": "218c146f85a6401f828e41ed4ce27e15",
       "version_major": 2,
       "version_minor": 0
      },
      "text/plain": [
       "HBox(children=(Dropdown(description='End Year:', layout=Layout(width='300px'), options=('2018', '2019', '2020'…"
      ]
     },
     "metadata": {},
     "output_type": "display_data"
    },
    {
     "data": {
      "application/vnd.jupyter.widget-view+json": {
       "model_id": "9eccb781620546f28ff6b0dfaa4c25a8",
       "version_major": 2,
       "version_minor": 0
      },
      "text/plain": [
       "Label(value='ENTER LATITUDE/LONGITUDE BOUNDARIES FOR SEARCH AREA (use up/down arrows or type in value)', layou…"
      ]
     },
     "metadata": {},
     "output_type": "display_data"
    },
    {
     "data": {
      "application/vnd.jupyter.widget-view+json": {
       "model_id": "9d9b778bad8d48cf9f3e6df9042dc4f4",
       "version_major": 2,
       "version_minor": 0
      },
      "text/plain": [
       "HBox(children=(BoundedFloatText(value=0.0, description='Northern-most Latitude:', layout=Layout(height='30px',…"
      ]
     },
     "metadata": {},
     "output_type": "display_data"
    },
    {
     "data": {
      "application/vnd.jupyter.widget-view+json": {
       "model_id": "79959750e1fc49aaa7d5c39e5f58c2b5",
       "version_major": 2,
       "version_minor": 0
      },
      "text/plain": [
       "HBox(children=(BoundedFloatText(value=0.0, description='Western-most Longitude:', layout=Layout(height='30px',…"
      ]
     },
     "metadata": {},
     "output_type": "display_data"
    },
    {
     "data": {
      "application/vnd.jupyter.widget-view+json": {
       "model_id": "baf44b3458ce401c80a59c7af741aa30",
       "version_major": 2,
       "version_minor": 0
      },
      "text/plain": [
       "HBox(children=(BoundedFloatText(value=0.0, description='Southern-most Latitude:', layout=Layout(height='30px',…"
      ]
     },
     "metadata": {},
     "output_type": "display_data"
    }
   ],
   "source": [
    "# Enter product, data latency, observation start/end dates and domain boundaries for file search\n",
    "# Selections are made using interactive Jupyter Notebook widgets\n",
    "# Run this block *once* to generate menus\n",
    "# When main function is run, it reads \".value\" of each menu selection\n",
    "# Do NOT re-run block if you change menu selections (re-running block resets menus to defaults)!\n",
    "\n",
    "# Formatting settings for drop-down menus\n",
    "style = {'description_width':'140px'}\n",
    "layout = widgets.Layout(width='300px')\n",
    "\n",
    "# Create drop-down menus using widgets\n",
    "product = widgets.Dropdown(options=[('Ozone', 'O3'), ('Aerosol Index', 'AI'), ('Aerosol Layer Height', 'ALH'), ('Carbon Monoxide', 'CO'), ('Formaldehyde', 'HCHO'), ('Nitrogen Dioxide', 'NO2'), ('Sulfur Dioxide', 'SO2')], description='Product:', style=style, layout=layout)\n",
    "latency = widgets.Dropdown(options=[('Near real time'), ('Offline'), ('Reprocessing') ], description='Data Latency:', style=style, layout=layout)\n",
    "start_year = widgets.Dropdown(options=[('2018'), ('2019'), ('2020'), ('2021'), ('2022'), ('2023'), ('2024')], description='Start Year:', style=style, layout=layout)\n",
    "start_month = widgets.Dropdown(options=[('Jan', '01'), ('Feb', '02'), ('Mar', '03'), ('Apr', '04'), ('May', '05'), ('Jun', '06'), ('Jul', '07'), ('Aug', '08'), ('Sep', '09'), ('Oct', '10'), ('Nov', '11'), ('Dec', '12')], description='Start Month:', style=style, layout=layout)\n",
    "start_day = widgets.Dropdown(options=[('01'), ('02'), ('03'), ('04'), ('05'), ('06'), ('07'), ('08'), ('09'), ('10'), ('11'), ('12'), ('13'), ('14'), ('15'), ('16'), ('17'), ('18'), ('19'), ('20'), ('21'), ('22'), ('23'), ('24'), ('25'), ('26'), ('27'), ('28'), ('29'), ('30'), ('31')], description='Start Day:', style=style, layout=layout)\n",
    "end_year = widgets.Dropdown(options=[('2018'), ('2019'), ('2020'), ('2021'), ('2022'), ('2023'), ('2024')], description='End Year:', style=style, layout=layout)\n",
    "end_month = widgets.Dropdown(options=[('Jan', '01'), ('Feb', '02'), ('Mar', '03'), ('Apr', '04'), ('May', '05'), ('Jun', '06'), ('Jul', '07'), ('Aug', '08'), ('Sep', '09'), ('Oct', '10'), ('Nov', '11'), ('Dec', '12')], description='End Month:', style=style, layout=layout)\n",
    "end_day = widgets.Dropdown(options=[('01'), ('02'), ('03'), ('04'), ('05'), ('06'), ('07'), ('08'), ('09'), ('10'), ('11'), ('12'), ('13'), ('14'), ('15'), ('16'), ('17'), ('18'), ('19'), ('20'), ('21'), ('22'), ('23'), ('24'), ('25'), ('26'), ('27'), ('28'), ('29'), ('30'), ('31')], description='End Day:', style=style, layout=layout)\n",
    "\n",
    "# Caption for map domain boundaries\n",
    "domain_caption = widgets.Label(value='ENTER LATITUDE/LONGITUDE BOUNDARIES FOR SEARCH AREA (use up/down arrows or type in value)', layout=widgets.Layout(height='30px'))\n",
    "\n",
    "# Format observation start/end dates menus to display side-by-side\n",
    "start_date = widgets.HBox([start_year, start_month, start_day])\n",
    "end_date = widgets.HBox([end_year, end_month, end_day])\n",
    "\n",
    "# Create numerical (float) text entry widgets for map boundary corners\n",
    "west_lon_float = widgets.BoundedFloatText(description='Western-most Longitude:', value=0, min=-180, max=180, disabled=False, layout=widgets.Layout(width='250px', height='30px'), style={'description_width':'150px'})\n",
    "east_lon_float = widgets.BoundedFloatText(description='Eastern-most Longitude:', value=0, min=-180, max=180, disabled=False, layout=widgets.Layout(width='250px', height='30px'), style={'description_width':'150px'})\n",
    "lon_label = widgets.Label(value='(use negative values to indicate °W, e.g., 100 °W = -100)', layout=widgets.Layout(width='400px'))\n",
    "lon_box = widgets.HBox([west_lon_float, east_lon_float, lon_label])\n",
    "north_lat_float = widgets.BoundedFloatText(description='Northern-most Latitude:', value=0, min=-90, max=90, disabled=False, layout=widgets.Layout(width='400px', height='30px'), style={'description_width':'300px'})\n",
    "south_lat_float = widgets.BoundedFloatText(description='Southern-most Latitude:', value=0, min=-90, max=90, disabled=False, layout=widgets.Layout(width='400px', height='30px'), style={'description_width':'300px'})\n",
    "lat_label = widgets.Label(value='(use negative values to indicate °S, e.g., 30 °S = -30)', layout=widgets.Layout(width='400px'))\n",
    "north_lat_box = widgets.HBox([north_lat_float, lat_label])\n",
    "south_lat_box = widgets.HBox([south_lat_float, lat_label])\n",
    "\n",
    "# Display drop-down menus\n",
    "print('If you change menu selections (e.g., to run another search), do NOT re-run this block!\\nRe-running will re-set all menus to their defaults!')\n",
    "display(product, latency)\n",
    "display(start_date, end_date)\n",
    "display(domain_caption, north_lat_box, lon_box, south_lat_box)"
   ]
  },
  {
   "cell_type": "code",
   "execution_count": 3,
   "id": "47988921",
   "metadata": {},
   "outputs": [],
   "source": [
    "# Convert user-entered date format to that used by Sentinel API\n",
    "# \"year\", \"month\", \"day\": parameter variables from widget menu, set in main function\n",
    "\n",
    "def convert_date_sentinel_api_format(year, month, day):\n",
    "    \n",
    "    # add dashes b/w year/month and month/day\n",
    "    formatted_date = year + '-' + month + '-' + day\n",
    "\n",
    "    return formatted_date"
   ]
  },
  {
   "cell_type": "code",
   "execution_count": 4,
   "id": "42becd22",
   "metadata": {},
   "outputs": [],
   "source": [
    "# Get product abbrevation used in TROPOMI file name\n",
    "# \"product\": parameter variable from widget menu, set in main function\n",
    "\n",
    "def get_tropomi_product_abbreviation(product):\n",
    "    if product == 'CO':\n",
    "        product_abbreviation = 'L2__CO____'\n",
    "    elif product == 'O3':\n",
    "        product_abbreviation = 'L2__O3____'\n",
    "    elif product == 'NO2':\n",
    "        product_abbreviation = 'L2__NO2___'\n",
    "    elif product == 'SO2':\n",
    "        product_abbreviation = 'L2__SO2___'\n",
    "    elif product == 'HCHO':\n",
    "        product_abbreviation = 'L2__HCHO__'\n",
    "    elif product == 'AI':\n",
    "        product_abbreviation = 'L2__AER_AI'\n",
    "    elif product == 'ALH':\n",
    "        product_abbreviation = 'L2__AER_LH'\n",
    "\n",
    "    return product_abbreviation"
   ]
  },
  {
   "cell_type": "code",
   "execution_count": 5,
   "id": "2d875e7e",
   "metadata": {},
   "outputs": [],
   "source": [
    "# Create list of TROPOMI data file names for user-entered product, latency, search region, and date range\n",
    "# \"product_abbreviation\": parameter variable from \"get_tropomi_product_abbreviation(product)\" function\n",
    "# \"start_date\", \"end_date\": parameter variables from \"convert_date_sentinel_api_format(year, month, day)\" function\n",
    "# \"west_lon\", \"east_lon\", \"south_lat\", \"north_lat\", \"latency\": parameter variables from widget menus, set in main function\n",
    "\n",
    "def tropomi_list_files(west_lon, east_lon, south_lat, north_lat, start_date, end_date, product_abbreviation, latency):\n",
    "\n",
    "    # Access S5P Data Hub using guest login credentials\n",
    "    api = SentinelAPI('s5pguest', 's5pguest', 'APIHub')  # https://s5phub.copernicus.eu/dhus\n",
    "   \n",
    "    # Query API for specified region, start/end dates, data product\n",
    "    footprint = 'POLYGON((' + west_lon + ' ' + south_lat + ',' + east_lon + ' ' + south_lat + ',' + east_lon + ' ' + north_lat + ',' + west_lon + ' ' + north_lat + ',' + west_lon + ' ' + south_lat + '))'\n",
    "    try:\n",
    "        products = api.query(area=footprint, date=(start_date + 'T00:00:00Z', end_date + 'T23:59:59Z'), producttype=product_abbreviation, processingmode=latency)\n",
    "    except:\n",
    "        print('Error connecting to SciHub server. This happens periodically. Run code again.')\n",
    "    \n",
    "    # Convert query output to pandas dataframe (df) (part of Sentinelsat library)\n",
    "    products_df = api.to_dataframe(products)\n",
    "    \n",
    "    # Extract data file names from dataframe to list\n",
    "    if len(products_df) > 0:\n",
    "        file_name_list = products_df['filename'].tolist()\n",
    "        file_size_list = products_df['size'].tolist()\n",
    "    else:\n",
    "        file_name_list = []\n",
    "        file_size_list = []\n",
    "    \n",
    "    return file_name_list, file_size_list, products"
   ]
  },
  {
   "cell_type": "code",
   "execution_count": 6,
   "id": "ae8ee8b4",
   "metadata": {},
   "outputs": [],
   "source": [
    "# Download TROPOMI data files\n",
    "# \"save_path\": parameter variable set in main function\n",
    "# \"products\": parameter variable from \"tropomi_list_files( )\" function\n",
    "\n",
    "def tropomi_download_files(products, save_path):\n",
    "    \n",
    "    # Query S5P Data Hub using guest login credentials\n",
    "    api = SentinelAPI('s5pguest', 's5pguest', 'APIHub')\n",
    "    \n",
    "    # Download data files to specified subdirectory\n",
    "    # Note: Sentinelsat library includes tqdm download progress bar\n",
    "    for product in products:\n",
    "        try:\n",
    "            api.download(product, save_path)\n",
    "        except KeyboardInterrupt:\n",
    "            print('\\nDownload was interrupted by user.')"
   ]
  },
  {
   "cell_type": "code",
   "execution_count": 7,
   "id": "d6c28e39",
   "metadata": {},
   "outputs": [],
   "source": [
    "# Print available TROPOMI data files that match user specifications, with option to download files\n",
    "# \"save_path\": parameter variable set in main function\n",
    "# \"product_abbreviation\": parameter variable from \"get_tropomi_product_abbreviation(product)\" function\n",
    "# \"start_date\", \"end_date\": parameter variables from \"convert_date_sentinel_api_format(date)\" function\n",
    "# \"west_lon\", \"south_lat\", \"east_lon\", \"north_lat\", \"latency\": parameter variables from widget menus, set in main function\n",
    "\n",
    "def get_tropomi_files(west_lon, east_lon, south_lat, north_lat, start_date, end_date, product_abbreviation, latency, save_path):\n",
    "    \n",
    "    # Query S5P Data Hub and list file names matching user-entered info\n",
    "    file_name_list, file_size_list, products = tropomi_list_files(west_lon, east_lon, south_lat, north_lat, start_date, end_date, product_abbreviation, latency)\n",
    "    \n",
    "    # Print list of available file names/sizes\n",
    "    if len(file_name_list) > 0:\n",
    "        print('\\nList of available data files (file size):')\n",
    "        for file, size in zip(file_name_list, file_size_list):\n",
    "            print(file, ' (', size, ')', sep='')\n",
    "        \n",
    "        # Print directory where files will be saved\n",
    "        print('\\nData files will be saved to:', save_path)\n",
    "        \n",
    "        # Ask user if they want to download the available data files\n",
    "        # If yes, download files to specified directory\n",
    "        download_question = 'Would you like to download the ' + str(len(file_name_list)) + ' files?\\nType \"yes\" or \"no\" and hit \"Enter\"\\n'\n",
    "        ask_download = input(download_question)\n",
    "        if ask_download in ['yes', 'YES', 'Yes', 'y', 'Y']:\n",
    "            tropomi_download_files(products, save_path)\n",
    "        else:\n",
    "            print('\\nFiles are not being downloaded.')\n",
    "    else:\n",
    "        print('\\nNo files retrieved.  Check settings and try again.')"
   ]
  },
  {
   "cell_type": "code",
   "execution_count": 8,
   "id": "552860fd",
   "metadata": {},
   "outputs": [
    {
     "name": "stdout",
     "output_type": "stream",
     "text": [
      "Error connecting to SciHub server. This happens periodically. Run code again.\n"
     ]
    },
    {
     "ename": "UnboundLocalError",
     "evalue": "local variable 'products' referenced before assignment",
     "output_type": "error",
     "traceback": [
      "\u001b[0;31m---------------------------------------------------------------------------\u001b[0m",
      "\u001b[0;31mUnboundLocalError\u001b[0m                         Traceback (most recent call last)",
      "Input \u001b[0;32mIn [8]\u001b[0m, in \u001b[0;36m<cell line: 5>\u001b[0;34m()\u001b[0m\n\u001b[1;32m     22\u001b[0m north_lat \u001b[38;5;241m=\u001b[39m \u001b[38;5;28mstr\u001b[39m(north_lat_float\u001b[38;5;241m.\u001b[39mvalue)\n\u001b[1;32m     24\u001b[0m \u001b[38;5;66;03m# Execute script\u001b[39;00m\n\u001b[0;32m---> 25\u001b[0m \u001b[43mget_tropomi_files\u001b[49m\u001b[43m(\u001b[49m\u001b[43mwest_lon\u001b[49m\u001b[43m,\u001b[49m\u001b[43m \u001b[49m\u001b[43meast_lon\u001b[49m\u001b[43m,\u001b[49m\u001b[43m \u001b[49m\u001b[43msouth_lat\u001b[49m\u001b[43m,\u001b[49m\u001b[43m \u001b[49m\u001b[43mnorth_lat\u001b[49m\u001b[43m,\u001b[49m\u001b[43m \u001b[49m\u001b[43mstart_date\u001b[49m\u001b[43m,\u001b[49m\u001b[43m \u001b[49m\u001b[43mend_date\u001b[49m\u001b[43m,\u001b[49m\u001b[43m \u001b[49m\u001b[43mproduct_abbreviation\u001b[49m\u001b[43m,\u001b[49m\u001b[43m \u001b[49m\u001b[43mlatency\u001b[49m\u001b[38;5;241;43m.\u001b[39;49m\u001b[43mvalue\u001b[49m\u001b[43m,\u001b[49m\u001b[43m \u001b[49m\u001b[43msave_path\u001b[49m\u001b[43m)\u001b[49m\n",
      "Input \u001b[0;32mIn [7]\u001b[0m, in \u001b[0;36mget_tropomi_files\u001b[0;34m(west_lon, east_lon, south_lat, north_lat, start_date, end_date, product_abbreviation, latency, save_path)\u001b[0m\n\u001b[1;32m      7\u001b[0m \u001b[38;5;28;01mdef\u001b[39;00m \u001b[38;5;21mget_tropomi_files\u001b[39m(west_lon, east_lon, south_lat, north_lat, start_date, end_date, product_abbreviation, latency, save_path):\n\u001b[1;32m      8\u001b[0m     \n\u001b[1;32m      9\u001b[0m     \u001b[38;5;66;03m# Query S5P Data Hub and list file names matching user-entered info\u001b[39;00m\n\u001b[0;32m---> 10\u001b[0m     file_name_list, file_size_list, products \u001b[38;5;241m=\u001b[39m \u001b[43mtropomi_list_files\u001b[49m\u001b[43m(\u001b[49m\u001b[43mwest_lon\u001b[49m\u001b[43m,\u001b[49m\u001b[43m \u001b[49m\u001b[43meast_lon\u001b[49m\u001b[43m,\u001b[49m\u001b[43m \u001b[49m\u001b[43msouth_lat\u001b[49m\u001b[43m,\u001b[49m\u001b[43m \u001b[49m\u001b[43mnorth_lat\u001b[49m\u001b[43m,\u001b[49m\u001b[43m \u001b[49m\u001b[43mstart_date\u001b[49m\u001b[43m,\u001b[49m\u001b[43m \u001b[49m\u001b[43mend_date\u001b[49m\u001b[43m,\u001b[49m\u001b[43m \u001b[49m\u001b[43mproduct_abbreviation\u001b[49m\u001b[43m,\u001b[49m\u001b[43m \u001b[49m\u001b[43mlatency\u001b[49m\u001b[43m)\u001b[49m\n\u001b[1;32m     12\u001b[0m     \u001b[38;5;66;03m# Print list of available file names/sizes\u001b[39;00m\n\u001b[1;32m     13\u001b[0m     \u001b[38;5;28;01mif\u001b[39;00m \u001b[38;5;28mlen\u001b[39m(file_name_list) \u001b[38;5;241m>\u001b[39m \u001b[38;5;241m0\u001b[39m:\n",
      "Input \u001b[0;32mIn [5]\u001b[0m, in \u001b[0;36mtropomi_list_files\u001b[0;34m(west_lon, east_lon, south_lat, north_lat, start_date, end_date, product_abbreviation, latency)\u001b[0m\n\u001b[1;32m     16\u001b[0m     \u001b[38;5;28mprint\u001b[39m(\u001b[38;5;124m'\u001b[39m\u001b[38;5;124mError connecting to SciHub server. This happens periodically. Run code again.\u001b[39m\u001b[38;5;124m'\u001b[39m)\n\u001b[1;32m     18\u001b[0m \u001b[38;5;66;03m# Convert query output to pandas dataframe (df) (part of Sentinelsat library)\u001b[39;00m\n\u001b[0;32m---> 19\u001b[0m products_df \u001b[38;5;241m=\u001b[39m api\u001b[38;5;241m.\u001b[39mto_dataframe(\u001b[43mproducts\u001b[49m)\n\u001b[1;32m     21\u001b[0m \u001b[38;5;66;03m# Extract data file names from dataframe to list\u001b[39;00m\n\u001b[1;32m     22\u001b[0m \u001b[38;5;28;01mif\u001b[39;00m \u001b[38;5;28mlen\u001b[39m(products_df) \u001b[38;5;241m>\u001b[39m \u001b[38;5;241m0\u001b[39m:\n",
      "\u001b[0;31mUnboundLocalError\u001b[0m: local variable 'products' referenced before assignment"
     ]
    }
   ],
   "source": [
    "# Execute search to find available TROPOMI L2 data files, with option to download files\n",
    "# Get values from widget menus (search parameters) using \".value\"\n",
    "\n",
    "# Main function\n",
    "if __name__ == '__main__':\n",
    "    \n",
    "    # Set directory to save downloaded files (as pathlib.Path object)\n",
    "    # Use current working directory for simplicity\n",
    "    save_path = r\"/Users/lukebrown/Downloads\"\n",
    "    \n",
    "    # Get TROPOMI product abbreviation used in file name\n",
    "    product_abbreviation = get_tropomi_product_abbreviation(product.value)\n",
    "    \n",
    "    # Change user-entered observation year/month/day for observation period to format used by Sentinel API\n",
    "    start_date = convert_date_sentinel_api_format(start_year.value, start_month.value, start_day.value)\n",
    "    end_date = convert_date_sentinel_api_format(end_year.value, end_month.value, end_day.value)\n",
    "    \n",
    "    # Convert latitude/longitude values entered as floats to string format used by Sentinel API\n",
    "    west_lon = str(west_lon_float.value)\n",
    "    east_lon = str(east_lon_float.value)\n",
    "    south_lat = str(south_lat_float.value)\n",
    "    north_lat = str(north_lat_float.value)\n",
    "    \n",
    "    # Execute script\n",
    "    get_tropomi_files(west_lon, east_lon, south_lat, north_lat, start_date, end_date, product_abbreviation, latency.value, save_path)"
   ]
  },
  {
   "cell_type": "code",
   "execution_count": null,
   "id": "9c9a1340",
   "metadata": {},
   "outputs": [],
   "source": []
  }
 ],
 "metadata": {
  "kernelspec": {
   "display_name": "Python 3 (ipykernel)",
   "language": "python",
   "name": "python3"
  },
  "language_info": {
   "codemirror_mode": {
    "name": "ipython",
    "version": 3
   },
   "file_extension": ".py",
   "mimetype": "text/x-python",
   "name": "python",
   "nbconvert_exporter": "python",
   "pygments_lexer": "ipython3",
   "version": "3.9.13"
  }
 },
 "nbformat": 4,
 "nbformat_minor": 5
}

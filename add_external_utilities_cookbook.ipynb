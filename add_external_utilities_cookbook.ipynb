{
 "cells": [
  {
   "cell_type": "code",
   "execution_count": 1,
   "id": "fad5e94c",
   "metadata": {},
   "outputs": [
    {
     "data": {
      "text/html": [
       "<style>.container { width:90% !important; }</style>"
      ],
      "text/plain": [
       "<IPython.core.display.HTML object>"
      ]
     },
     "metadata": {},
     "output_type": "display_data"
    }
   ],
   "source": [
    "# set notebook width for readability\n",
    "from IPython.display import display, HTML\n",
    "display(HTML(\"<style>.container { width:90% !important; }</style>\"))"
   ]
  },
  {
   "cell_type": "markdown",
   "id": "bd1f8035",
   "metadata": {},
   "source": [
    "## below we add ../.. to our system path in order to import personal utilities\n",
    "example folder structure is example_parent/notebooks \n",
    "\n",
    "and your utilities live next door in example_parent/utilities"
   ]
  },
  {
   "cell_type": "code",
   "execution_count": 2,
   "id": "d89203fc",
   "metadata": {},
   "outputs": [],
   "source": [
    "# set utilities path for ipython notebook\n",
    "import sys\n",
    "notebook_directory = '../..'\n",
    "if notebook_directory not in sys.path:\n",
    "    sys.path.append(notebook_directory)\n",
    "# sys.path"
   ]
  },
  {
   "cell_type": "code",
   "execution_count": null,
   "id": "32c43f2b",
   "metadata": {},
   "outputs": [],
   "source": [
    "# then we can do\n",
    "\n",
    "from example_parent.utilities import *\n",
    "\n",
    "# to import our personal utilities as a module in our notebook! :)"
   ]
  }
 ],
 "metadata": {
  "kernelspec": {
   "display_name": "Python [conda env:eoas39] *",
   "language": "python",
   "name": "conda-env-eoas39-py"
  },
  "language_info": {
   "codemirror_mode": {
    "name": "ipython",
    "version": 3
   },
   "file_extension": ".py",
   "mimetype": "text/x-python",
   "name": "python",
   "nbconvert_exporter": "python",
   "pygments_lexer": "ipython3",
   "version": "3.9.13"
  }
 },
 "nbformat": 4,
 "nbformat_minor": 5
}
